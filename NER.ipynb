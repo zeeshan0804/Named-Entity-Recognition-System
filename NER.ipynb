{
  "cells": [
    {
      "cell_type": "code",
      "execution_count": 1,
      "id": "3c541243",
      "metadata": {
        "id": "3c541243"
      },
      "outputs": [],
      "source": [
        "import nltk\n",
        "import re\n",
        "import tensorflow as tf\n",
        "import pandas as pd\n",
        "import numpy as np\n",
        "import matplotlib.pyplot as plt\n",
        "from sklearn.model_selection import train_test_split\n",
        "from tensorflow.keras.preprocessing.text import Tokenizer\n",
        "from tensorflow.keras.preprocessing.sequence import pad_sequences\n",
        "from tensorflow.keras.models import Sequential\n",
        "from tensorflow.keras.layers import LSTM, Embedding, Dense, TimeDistributed, Dropout, Bidirectional, Input"
      ]
    },
    {
      "cell_type": "code",
      "execution_count": 2,
      "id": "7d387de8",
      "metadata": {
        "colab": {
          "base_uri": "https://localhost:8080/",
          "height": 419
        },
        "id": "7d387de8",
        "outputId": "f84faa59-27dc-4c1f-ac81-68fd433e4d57"
      },
      "outputs": [
        {
          "data": {
            "text/html": [
              "\n",
              "\n",
              "  <div id=\"df-2c51e7cc-b0f0-4123-93b3-66456ac08a09\">\n",
              "    <div class=\"colab-df-container\">\n",
              "      <div>\n",
              "<style scoped>\n",
              "    .dataframe tbody tr th:only-of-type {\n",
              "        vertical-align: middle;\n",
              "    }\n",
              "\n",
              "    .dataframe tbody tr th {\n",
              "        vertical-align: top;\n",
              "    }\n",
              "\n",
              "    .dataframe thead th {\n",
              "        text-align: right;\n",
              "    }\n",
              "</style>\n",
              "<table border=\"1\" class=\"dataframe\">\n",
              "  <thead>\n",
              "    <tr style=\"text-align: right;\">\n",
              "      <th></th>\n",
              "      <th>Sentence #</th>\n",
              "      <th>Word</th>\n",
              "      <th>POS</th>\n",
              "      <th>Tag</th>\n",
              "    </tr>\n",
              "  </thead>\n",
              "  <tbody>\n",
              "    <tr>\n",
              "      <th>0</th>\n",
              "      <td>Sentence: 1</td>\n",
              "      <td>Thousands</td>\n",
              "      <td>NNS</td>\n",
              "      <td>O</td>\n",
              "    </tr>\n",
              "    <tr>\n",
              "      <th>1</th>\n",
              "      <td>NaN</td>\n",
              "      <td>of</td>\n",
              "      <td>IN</td>\n",
              "      <td>O</td>\n",
              "    </tr>\n",
              "    <tr>\n",
              "      <th>2</th>\n",
              "      <td>NaN</td>\n",
              "      <td>demonstrators</td>\n",
              "      <td>NNS</td>\n",
              "      <td>O</td>\n",
              "    </tr>\n",
              "    <tr>\n",
              "      <th>3</th>\n",
              "      <td>NaN</td>\n",
              "      <td>have</td>\n",
              "      <td>VBP</td>\n",
              "      <td>O</td>\n",
              "    </tr>\n",
              "    <tr>\n",
              "      <th>4</th>\n",
              "      <td>NaN</td>\n",
              "      <td>marched</td>\n",
              "      <td>VBN</td>\n",
              "      <td>O</td>\n",
              "    </tr>\n",
              "    <tr>\n",
              "      <th>...</th>\n",
              "      <td>...</td>\n",
              "      <td>...</td>\n",
              "      <td>...</td>\n",
              "      <td>...</td>\n",
              "    </tr>\n",
              "    <tr>\n",
              "      <th>1048570</th>\n",
              "      <td>NaN</td>\n",
              "      <td>they</td>\n",
              "      <td>PRP</td>\n",
              "      <td>O</td>\n",
              "    </tr>\n",
              "    <tr>\n",
              "      <th>1048571</th>\n",
              "      <td>NaN</td>\n",
              "      <td>responded</td>\n",
              "      <td>VBD</td>\n",
              "      <td>O</td>\n",
              "    </tr>\n",
              "    <tr>\n",
              "      <th>1048572</th>\n",
              "      <td>NaN</td>\n",
              "      <td>to</td>\n",
              "      <td>TO</td>\n",
              "      <td>O</td>\n",
              "    </tr>\n",
              "    <tr>\n",
              "      <th>1048573</th>\n",
              "      <td>NaN</td>\n",
              "      <td>the</td>\n",
              "      <td>DT</td>\n",
              "      <td>O</td>\n",
              "    </tr>\n",
              "    <tr>\n",
              "      <th>1048574</th>\n",
              "      <td>NaN</td>\n",
              "      <td>attack</td>\n",
              "      <td>NN</td>\n",
              "      <td>O</td>\n",
              "    </tr>\n",
              "  </tbody>\n",
              "</table>\n",
              "<p>1048575 rows × 4 columns</p>\n",
              "</div>\n",
              "      <button class=\"colab-df-convert\" onclick=\"convertToInteractive('df-2c51e7cc-b0f0-4123-93b3-66456ac08a09')\"\n",
              "              title=\"Convert this dataframe to an interactive table.\"\n",
              "              style=\"display:none;\">\n",
              "\n",
              "  <svg xmlns=\"http://www.w3.org/2000/svg\" height=\"24px\"viewBox=\"0 0 24 24\"\n",
              "       width=\"24px\">\n",
              "    <path d=\"M0 0h24v24H0V0z\" fill=\"none\"/>\n",
              "    <path d=\"M18.56 5.44l.94 2.06.94-2.06 2.06-.94-2.06-.94-.94-2.06-.94 2.06-2.06.94zm-11 1L8.5 8.5l.94-2.06 2.06-.94-2.06-.94L8.5 2.5l-.94 2.06-2.06.94zm10 10l.94 2.06.94-2.06 2.06-.94-2.06-.94-.94-2.06-.94 2.06-2.06.94z\"/><path d=\"M17.41 7.96l-1.37-1.37c-.4-.4-.92-.59-1.43-.59-.52 0-1.04.2-1.43.59L10.3 9.45l-7.72 7.72c-.78.78-.78 2.05 0 2.83L4 21.41c.39.39.9.59 1.41.59.51 0 1.02-.2 1.41-.59l7.78-7.78 2.81-2.81c.8-.78.8-2.07 0-2.86zM5.41 20L4 18.59l7.72-7.72 1.47 1.35L5.41 20z\"/>\n",
              "  </svg>\n",
              "      </button>\n",
              "\n",
              "\n",
              "\n",
              "    <div id=\"df-2dbb6e7a-9bdf-4e89-a64d-622f8e12a2fd\">\n",
              "      <button class=\"colab-df-quickchart\" onclick=\"quickchart('df-2dbb6e7a-9bdf-4e89-a64d-622f8e12a2fd')\"\n",
              "              title=\"Suggest charts.\"\n",
              "              style=\"display:none;\">\n",
              "\n",
              "<svg xmlns=\"http://www.w3.org/2000/svg\" height=\"24px\"viewBox=\"0 0 24 24\"\n",
              "     width=\"24px\">\n",
              "    <g>\n",
              "        <path d=\"M19 3H5c-1.1 0-2 .9-2 2v14c0 1.1.9 2 2 2h14c1.1 0 2-.9 2-2V5c0-1.1-.9-2-2-2zM9 17H7v-7h2v7zm4 0h-2V7h2v10zm4 0h-2v-4h2v4z\"/>\n",
              "    </g>\n",
              "</svg>\n",
              "      </button>\n",
              "    </div>\n",
              "\n",
              "<style>\n",
              "  .colab-df-quickchart {\n",
              "    background-color: #E8F0FE;\n",
              "    border: none;\n",
              "    border-radius: 50%;\n",
              "    cursor: pointer;\n",
              "    display: none;\n",
              "    fill: #1967D2;\n",
              "    height: 32px;\n",
              "    padding: 0 0 0 0;\n",
              "    width: 32px;\n",
              "  }\n",
              "\n",
              "  .colab-df-quickchart:hover {\n",
              "    background-color: #E2EBFA;\n",
              "    box-shadow: 0px 1px 2px rgba(60, 64, 67, 0.3), 0px 1px 3px 1px rgba(60, 64, 67, 0.15);\n",
              "    fill: #174EA6;\n",
              "  }\n",
              "\n",
              "  [theme=dark] .colab-df-quickchart {\n",
              "    background-color: #3B4455;\n",
              "    fill: #D2E3FC;\n",
              "  }\n",
              "\n",
              "  [theme=dark] .colab-df-quickchart:hover {\n",
              "    background-color: #434B5C;\n",
              "    box-shadow: 0px 1px 3px 1px rgba(0, 0, 0, 0.15);\n",
              "    filter: drop-shadow(0px 1px 2px rgba(0, 0, 0, 0.3));\n",
              "    fill: #FFFFFF;\n",
              "  }\n",
              "</style>\n",
              "\n",
              "    <script>\n",
              "      async function quickchart(key) {\n",
              "        const containerElement = document.querySelector('#' + key);\n",
              "        const charts = await google.colab.kernel.invokeFunction(\n",
              "            'suggestCharts', [key], {});\n",
              "      }\n",
              "    </script>\n",
              "\n",
              "      <script>\n",
              "\n",
              "function displayQuickchartButton(domScope) {\n",
              "  let quickchartButtonEl =\n",
              "    domScope.querySelector('#df-2dbb6e7a-9bdf-4e89-a64d-622f8e12a2fd button.colab-df-quickchart');\n",
              "  quickchartButtonEl.style.display =\n",
              "    google.colab.kernel.accessAllowed ? 'block' : 'none';\n",
              "}\n",
              "\n",
              "        displayQuickchartButton(document);\n",
              "      </script>\n",
              "      <style>\n",
              "    .colab-df-container {\n",
              "      display:flex;\n",
              "      flex-wrap:wrap;\n",
              "      gap: 12px;\n",
              "    }\n",
              "\n",
              "    .colab-df-convert {\n",
              "      background-color: #E8F0FE;\n",
              "      border: none;\n",
              "      border-radius: 50%;\n",
              "      cursor: pointer;\n",
              "      display: none;\n",
              "      fill: #1967D2;\n",
              "      height: 32px;\n",
              "      padding: 0 0 0 0;\n",
              "      width: 32px;\n",
              "    }\n",
              "\n",
              "    .colab-df-convert:hover {\n",
              "      background-color: #E2EBFA;\n",
              "      box-shadow: 0px 1px 2px rgba(60, 64, 67, 0.3), 0px 1px 3px 1px rgba(60, 64, 67, 0.15);\n",
              "      fill: #174EA6;\n",
              "    }\n",
              "\n",
              "    [theme=dark] .colab-df-convert {\n",
              "      background-color: #3B4455;\n",
              "      fill: #D2E3FC;\n",
              "    }\n",
              "\n",
              "    [theme=dark] .colab-df-convert:hover {\n",
              "      background-color: #434B5C;\n",
              "      box-shadow: 0px 1px 3px 1px rgba(0, 0, 0, 0.15);\n",
              "      filter: drop-shadow(0px 1px 2px rgba(0, 0, 0, 0.3));\n",
              "      fill: #FFFFFF;\n",
              "    }\n",
              "  </style>\n",
              "\n",
              "      <script>\n",
              "        const buttonEl =\n",
              "          document.querySelector('#df-2c51e7cc-b0f0-4123-93b3-66456ac08a09 button.colab-df-convert');\n",
              "        buttonEl.style.display =\n",
              "          google.colab.kernel.accessAllowed ? 'block' : 'none';\n",
              "\n",
              "        async function convertToInteractive(key) {\n",
              "          const element = document.querySelector('#df-2c51e7cc-b0f0-4123-93b3-66456ac08a09');\n",
              "          const dataTable =\n",
              "            await google.colab.kernel.invokeFunction('convertToInteractive',\n",
              "                                                     [key], {});\n",
              "          if (!dataTable) return;\n",
              "\n",
              "          const docLinkHtml = 'Like what you see? Visit the ' +\n",
              "            '<a target=\"_blank\" href=https://colab.research.google.com/notebooks/data_table.ipynb>data table notebook</a>'\n",
              "            + ' to learn more about interactive tables.';\n",
              "          element.innerHTML = '';\n",
              "          dataTable['output_type'] = 'display_data';\n",
              "          await google.colab.output.renderOutput(dataTable, element);\n",
              "          const docLink = document.createElement('div');\n",
              "          docLink.innerHTML = docLinkHtml;\n",
              "          element.appendChild(docLink);\n",
              "        }\n",
              "      </script>\n",
              "    </div>\n",
              "  </div>\n"
            ],
            "text/plain": [
              "          Sentence #           Word  POS Tag\n",
              "0        Sentence: 1      Thousands  NNS   O\n",
              "1                NaN             of   IN   O\n",
              "2                NaN  demonstrators  NNS   O\n",
              "3                NaN           have  VBP   O\n",
              "4                NaN        marched  VBN   O\n",
              "...              ...            ...  ...  ..\n",
              "1048570          NaN           they  PRP   O\n",
              "1048571          NaN      responded  VBD   O\n",
              "1048572          NaN             to   TO   O\n",
              "1048573          NaN            the   DT   O\n",
              "1048574          NaN         attack   NN   O\n",
              "\n",
              "[1048575 rows x 4 columns]"
            ]
          },
          "execution_count": 2,
          "metadata": {},
          "output_type": "execute_result"
        }
      ],
      "source": [
        "df = pd.read_csv('Dataset/ner_dataset.csv', encoding= 'unicode_escape')\n",
        "df"
      ]
    },
    {
      "cell_type": "code",
      "execution_count": 3,
      "id": "8768ebb7",
      "metadata": {
        "colab": {
          "base_uri": "https://localhost:8080/",
          "height": 650
        },
        "id": "8768ebb7",
        "outputId": "d94b459c-fe70-47ce-874d-248e39e45c69"
      },
      "outputs": [
        {
          "data": {
            "text/html": [
              "\n",
              "\n",
              "  <div id=\"df-d7668a25-550f-452b-8fcd-fd0b46795ac8\">\n",
              "    <div class=\"colab-df-container\">\n",
              "      <div>\n",
              "<style scoped>\n",
              "    .dataframe tbody tr th:only-of-type {\n",
              "        vertical-align: middle;\n",
              "    }\n",
              "\n",
              "    .dataframe tbody tr th {\n",
              "        vertical-align: top;\n",
              "    }\n",
              "\n",
              "    .dataframe thead th {\n",
              "        text-align: right;\n",
              "    }\n",
              "</style>\n",
              "<table border=\"1\" class=\"dataframe\">\n",
              "  <thead>\n",
              "    <tr style=\"text-align: right;\">\n",
              "      <th></th>\n",
              "      <th>Sentence #</th>\n",
              "      <th>Sentence</th>\n",
              "      <th>POS</th>\n",
              "      <th>Tag</th>\n",
              "    </tr>\n",
              "  </thead>\n",
              "  <tbody>\n",
              "    <tr>\n",
              "      <th>0</th>\n",
              "      <td>Sentence: 1</td>\n",
              "      <td>Thousands of demonstrators have marched throug...</td>\n",
              "      <td>['NNS', 'IN', 'NNS', 'VBP', 'VBN', 'IN', 'NNP'...</td>\n",
              "      <td>['O', 'O', 'O', 'O', 'O', 'O', 'B-geo', 'O', '...</td>\n",
              "    </tr>\n",
              "    <tr>\n",
              "      <th>1</th>\n",
              "      <td>Sentence: 2</td>\n",
              "      <td>Families of soldiers killed in the conflict jo...</td>\n",
              "      <td>['NNS', 'IN', 'NNS', 'VBN', 'IN', 'DT', 'NN', ...</td>\n",
              "      <td>['O', 'O', 'O', 'O', 'O', 'O', 'O', 'O', 'O', ...</td>\n",
              "    </tr>\n",
              "    <tr>\n",
              "      <th>2</th>\n",
              "      <td>Sentence: 3</td>\n",
              "      <td>They marched from the Houses of Parliament to ...</td>\n",
              "      <td>['PRP', 'VBD', 'IN', 'DT', 'NNS', 'IN', 'NN', ...</td>\n",
              "      <td>['O', 'O', 'O', 'O', 'O', 'O', 'O', 'O', 'O', ...</td>\n",
              "    </tr>\n",
              "    <tr>\n",
              "      <th>3</th>\n",
              "      <td>Sentence: 4</td>\n",
              "      <td>Police put the number of marchers at 10,000 wh...</td>\n",
              "      <td>['NNS', 'VBD', 'DT', 'NN', 'IN', 'NNS', 'IN', ...</td>\n",
              "      <td>['O', 'O', 'O', 'O', 'O', 'O', 'O', 'O', 'O', ...</td>\n",
              "    </tr>\n",
              "    <tr>\n",
              "      <th>4</th>\n",
              "      <td>Sentence: 5</td>\n",
              "      <td>The protest comes on the eve of the annual con...</td>\n",
              "      <td>['DT', 'NN', 'VBZ', 'IN', 'DT', 'NN', 'IN', 'D...</td>\n",
              "      <td>['O', 'O', 'O', 'O', 'O', 'O', 'O', 'O', 'O', ...</td>\n",
              "    </tr>\n",
              "    <tr>\n",
              "      <th>...</th>\n",
              "      <td>...</td>\n",
              "      <td>...</td>\n",
              "      <td>...</td>\n",
              "      <td>...</td>\n",
              "    </tr>\n",
              "    <tr>\n",
              "      <th>47954</th>\n",
              "      <td>Sentence: 47955</td>\n",
              "      <td>Indian border security forces are accusing the...</td>\n",
              "      <td>['JJ', 'NN', 'NN', 'NNS', 'VBP', 'VBG', 'PRP$'...</td>\n",
              "      <td>['B-gpe', 'O', 'O', 'O', 'O', 'O', 'O', 'B-gpe...</td>\n",
              "    </tr>\n",
              "    <tr>\n",
              "      <th>47955</th>\n",
              "      <td>Sentence: 47956</td>\n",
              "      <td>Indian officials said no one was injured in Sa...</td>\n",
              "      <td>['JJ', 'NNS', 'VBD', 'DT', 'NN', 'VBD', 'VBN',...</td>\n",
              "      <td>['B-gpe', 'O', 'O', 'O', 'O', 'O', 'O', 'O', '...</td>\n",
              "    </tr>\n",
              "    <tr>\n",
              "      <th>47956</th>\n",
              "      <td>Sentence: 47957</td>\n",
              "      <td>Two more landed in fields belonging to a nearb...</td>\n",
              "      <td>['CD', 'JJR', 'VBD', 'IN', 'NNS', 'VBG', 'TO',...</td>\n",
              "      <td>['O', 'O', 'O', 'O', 'O', 'O', 'O', 'O', 'O', ...</td>\n",
              "    </tr>\n",
              "    <tr>\n",
              "      <th>47957</th>\n",
              "      <td>Sentence: 47958</td>\n",
              "      <td>They say not all of the rockets exploded upon ...</td>\n",
              "      <td>['PRP', 'VBP', 'RB', 'DT', 'IN', 'DT', 'NNS', ...</td>\n",
              "      <td>['O', 'O', 'O', 'O', 'O', 'O', 'O', 'O', 'O', ...</td>\n",
              "    </tr>\n",
              "    <tr>\n",
              "      <th>47958</th>\n",
              "      <td>Sentence: 47959</td>\n",
              "      <td>Indian forces said they responded to the attack</td>\n",
              "      <td>['JJ', 'NNS', 'VBD', 'PRP', 'VBD', 'TO', 'DT',...</td>\n",
              "      <td>['B-gpe', 'O', 'O', 'O', 'O', 'O', 'O', 'O']</td>\n",
              "    </tr>\n",
              "  </tbody>\n",
              "</table>\n",
              "<p>47959 rows × 4 columns</p>\n",
              "</div>\n",
              "      <button class=\"colab-df-convert\" onclick=\"convertToInteractive('df-d7668a25-550f-452b-8fcd-fd0b46795ac8')\"\n",
              "              title=\"Convert this dataframe to an interactive table.\"\n",
              "              style=\"display:none;\">\n",
              "\n",
              "  <svg xmlns=\"http://www.w3.org/2000/svg\" height=\"24px\"viewBox=\"0 0 24 24\"\n",
              "       width=\"24px\">\n",
              "    <path d=\"M0 0h24v24H0V0z\" fill=\"none\"/>\n",
              "    <path d=\"M18.56 5.44l.94 2.06.94-2.06 2.06-.94-2.06-.94-.94-2.06-.94 2.06-2.06.94zm-11 1L8.5 8.5l.94-2.06 2.06-.94-2.06-.94L8.5 2.5l-.94 2.06-2.06.94zm10 10l.94 2.06.94-2.06 2.06-.94-2.06-.94-.94-2.06-.94 2.06-2.06.94z\"/><path d=\"M17.41 7.96l-1.37-1.37c-.4-.4-.92-.59-1.43-.59-.52 0-1.04.2-1.43.59L10.3 9.45l-7.72 7.72c-.78.78-.78 2.05 0 2.83L4 21.41c.39.39.9.59 1.41.59.51 0 1.02-.2 1.41-.59l7.78-7.78 2.81-2.81c.8-.78.8-2.07 0-2.86zM5.41 20L4 18.59l7.72-7.72 1.47 1.35L5.41 20z\"/>\n",
              "  </svg>\n",
              "      </button>\n",
              "\n",
              "\n",
              "\n",
              "    <div id=\"df-b9b53ad3-88e0-4b80-990d-f68c49caf22b\">\n",
              "      <button class=\"colab-df-quickchart\" onclick=\"quickchart('df-b9b53ad3-88e0-4b80-990d-f68c49caf22b')\"\n",
              "              title=\"Suggest charts.\"\n",
              "              style=\"display:none;\">\n",
              "\n",
              "<svg xmlns=\"http://www.w3.org/2000/svg\" height=\"24px\"viewBox=\"0 0 24 24\"\n",
              "     width=\"24px\">\n",
              "    <g>\n",
              "        <path d=\"M19 3H5c-1.1 0-2 .9-2 2v14c0 1.1.9 2 2 2h14c1.1 0 2-.9 2-2V5c0-1.1-.9-2-2-2zM9 17H7v-7h2v7zm4 0h-2V7h2v10zm4 0h-2v-4h2v4z\"/>\n",
              "    </g>\n",
              "</svg>\n",
              "      </button>\n",
              "    </div>\n",
              "\n",
              "<style>\n",
              "  .colab-df-quickchart {\n",
              "    background-color: #E8F0FE;\n",
              "    border: none;\n",
              "    border-radius: 50%;\n",
              "    cursor: pointer;\n",
              "    display: none;\n",
              "    fill: #1967D2;\n",
              "    height: 32px;\n",
              "    padding: 0 0 0 0;\n",
              "    width: 32px;\n",
              "  }\n",
              "\n",
              "  .colab-df-quickchart:hover {\n",
              "    background-color: #E2EBFA;\n",
              "    box-shadow: 0px 1px 2px rgba(60, 64, 67, 0.3), 0px 1px 3px 1px rgba(60, 64, 67, 0.15);\n",
              "    fill: #174EA6;\n",
              "  }\n",
              "\n",
              "  [theme=dark] .colab-df-quickchart {\n",
              "    background-color: #3B4455;\n",
              "    fill: #D2E3FC;\n",
              "  }\n",
              "\n",
              "  [theme=dark] .colab-df-quickchart:hover {\n",
              "    background-color: #434B5C;\n",
              "    box-shadow: 0px 1px 3px 1px rgba(0, 0, 0, 0.15);\n",
              "    filter: drop-shadow(0px 1px 2px rgba(0, 0, 0, 0.3));\n",
              "    fill: #FFFFFF;\n",
              "  }\n",
              "</style>\n",
              "\n",
              "    <script>\n",
              "      async function quickchart(key) {\n",
              "        const containerElement = document.querySelector('#' + key);\n",
              "        const charts = await google.colab.kernel.invokeFunction(\n",
              "            'suggestCharts', [key], {});\n",
              "      }\n",
              "    </script>\n",
              "\n",
              "      <script>\n",
              "\n",
              "function displayQuickchartButton(domScope) {\n",
              "  let quickchartButtonEl =\n",
              "    domScope.querySelector('#df-b9b53ad3-88e0-4b80-990d-f68c49caf22b button.colab-df-quickchart');\n",
              "  quickchartButtonEl.style.display =\n",
              "    google.colab.kernel.accessAllowed ? 'block' : 'none';\n",
              "}\n",
              "\n",
              "        displayQuickchartButton(document);\n",
              "      </script>\n",
              "      <style>\n",
              "    .colab-df-container {\n",
              "      display:flex;\n",
              "      flex-wrap:wrap;\n",
              "      gap: 12px;\n",
              "    }\n",
              "\n",
              "    .colab-df-convert {\n",
              "      background-color: #E8F0FE;\n",
              "      border: none;\n",
              "      border-radius: 50%;\n",
              "      cursor: pointer;\n",
              "      display: none;\n",
              "      fill: #1967D2;\n",
              "      height: 32px;\n",
              "      padding: 0 0 0 0;\n",
              "      width: 32px;\n",
              "    }\n",
              "\n",
              "    .colab-df-convert:hover {\n",
              "      background-color: #E2EBFA;\n",
              "      box-shadow: 0px 1px 2px rgba(60, 64, 67, 0.3), 0px 1px 3px 1px rgba(60, 64, 67, 0.15);\n",
              "      fill: #174EA6;\n",
              "    }\n",
              "\n",
              "    [theme=dark] .colab-df-convert {\n",
              "      background-color: #3B4455;\n",
              "      fill: #D2E3FC;\n",
              "    }\n",
              "\n",
              "    [theme=dark] .colab-df-convert:hover {\n",
              "      background-color: #434B5C;\n",
              "      box-shadow: 0px 1px 3px 1px rgba(0, 0, 0, 0.15);\n",
              "      filter: drop-shadow(0px 1px 2px rgba(0, 0, 0, 0.3));\n",
              "      fill: #FFFFFF;\n",
              "    }\n",
              "  </style>\n",
              "\n",
              "      <script>\n",
              "        const buttonEl =\n",
              "          document.querySelector('#df-d7668a25-550f-452b-8fcd-fd0b46795ac8 button.colab-df-convert');\n",
              "        buttonEl.style.display =\n",
              "          google.colab.kernel.accessAllowed ? 'block' : 'none';\n",
              "\n",
              "        async function convertToInteractive(key) {\n",
              "          const element = document.querySelector('#df-d7668a25-550f-452b-8fcd-fd0b46795ac8');\n",
              "          const dataTable =\n",
              "            await google.colab.kernel.invokeFunction('convertToInteractive',\n",
              "                                                     [key], {});\n",
              "          if (!dataTable) return;\n",
              "\n",
              "          const docLinkHtml = 'Like what you see? Visit the ' +\n",
              "            '<a target=\"_blank\" href=https://colab.research.google.com/notebooks/data_table.ipynb>data table notebook</a>'\n",
              "            + ' to learn more about interactive tables.';\n",
              "          element.innerHTML = '';\n",
              "          dataTable['output_type'] = 'display_data';\n",
              "          await google.colab.output.renderOutput(dataTable, element);\n",
              "          const docLink = document.createElement('div');\n",
              "          docLink.innerHTML = docLinkHtml;\n",
              "          element.appendChild(docLink);\n",
              "        }\n",
              "      </script>\n",
              "    </div>\n",
              "  </div>\n"
            ],
            "text/plain": [
              "            Sentence #                                           Sentence  \\\n",
              "0          Sentence: 1  Thousands of demonstrators have marched throug...   \n",
              "1          Sentence: 2  Families of soldiers killed in the conflict jo...   \n",
              "2          Sentence: 3  They marched from the Houses of Parliament to ...   \n",
              "3          Sentence: 4  Police put the number of marchers at 10,000 wh...   \n",
              "4          Sentence: 5  The protest comes on the eve of the annual con...   \n",
              "...                ...                                                ...   \n",
              "47954  Sentence: 47955  Indian border security forces are accusing the...   \n",
              "47955  Sentence: 47956  Indian officials said no one was injured in Sa...   \n",
              "47956  Sentence: 47957  Two more landed in fields belonging to a nearb...   \n",
              "47957  Sentence: 47958  They say not all of the rockets exploded upon ...   \n",
              "47958  Sentence: 47959    Indian forces said they responded to the attack   \n",
              "\n",
              "                                                     POS  \\\n",
              "0      ['NNS', 'IN', 'NNS', 'VBP', 'VBN', 'IN', 'NNP'...   \n",
              "1      ['NNS', 'IN', 'NNS', 'VBN', 'IN', 'DT', 'NN', ...   \n",
              "2      ['PRP', 'VBD', 'IN', 'DT', 'NNS', 'IN', 'NN', ...   \n",
              "3      ['NNS', 'VBD', 'DT', 'NN', 'IN', 'NNS', 'IN', ...   \n",
              "4      ['DT', 'NN', 'VBZ', 'IN', 'DT', 'NN', 'IN', 'D...   \n",
              "...                                                  ...   \n",
              "47954  ['JJ', 'NN', 'NN', 'NNS', 'VBP', 'VBG', 'PRP$'...   \n",
              "47955  ['JJ', 'NNS', 'VBD', 'DT', 'NN', 'VBD', 'VBN',...   \n",
              "47956  ['CD', 'JJR', 'VBD', 'IN', 'NNS', 'VBG', 'TO',...   \n",
              "47957  ['PRP', 'VBP', 'RB', 'DT', 'IN', 'DT', 'NNS', ...   \n",
              "47958  ['JJ', 'NNS', 'VBD', 'PRP', 'VBD', 'TO', 'DT',...   \n",
              "\n",
              "                                                     Tag  \n",
              "0      ['O', 'O', 'O', 'O', 'O', 'O', 'B-geo', 'O', '...  \n",
              "1      ['O', 'O', 'O', 'O', 'O', 'O', 'O', 'O', 'O', ...  \n",
              "2      ['O', 'O', 'O', 'O', 'O', 'O', 'O', 'O', 'O', ...  \n",
              "3      ['O', 'O', 'O', 'O', 'O', 'O', 'O', 'O', 'O', ...  \n",
              "4      ['O', 'O', 'O', 'O', 'O', 'O', 'O', 'O', 'O', ...  \n",
              "...                                                  ...  \n",
              "47954  ['B-gpe', 'O', 'O', 'O', 'O', 'O', 'O', 'B-gpe...  \n",
              "47955  ['B-gpe', 'O', 'O', 'O', 'O', 'O', 'O', 'O', '...  \n",
              "47956  ['O', 'O', 'O', 'O', 'O', 'O', 'O', 'O', 'O', ...  \n",
              "47957  ['O', 'O', 'O', 'O', 'O', 'O', 'O', 'O', 'O', ...  \n",
              "47958       ['B-gpe', 'O', 'O', 'O', 'O', 'O', 'O', 'O']  \n",
              "\n",
              "[47959 rows x 4 columns]"
            ]
          },
          "execution_count": 3,
          "metadata": {},
          "output_type": "execute_result"
        }
      ],
      "source": [
        "ready_df = pd.read_csv('Dataset/ner.csv')\n",
        "ready_df"
      ]
    },
    {
      "cell_type": "code",
      "execution_count": 4,
      "id": "361b9da9",
      "metadata": {
        "colab": {
          "base_uri": "https://localhost:8080/"
        },
        "id": "361b9da9",
        "outputId": "2b62504a-9a4f-430e-88c2-1b395bfe7fbc"
      },
      "outputs": [
        {
          "name": "stdout",
          "output_type": "stream",
          "text": [
            "<class 'pandas.core.frame.DataFrame'>\n",
            "RangeIndex: 1048575 entries, 0 to 1048574\n",
            "Data columns (total 4 columns):\n",
            " #   Column      Non-Null Count    Dtype \n",
            "---  ------      --------------    ----- \n",
            " 0   Sentence #  47959 non-null    object\n",
            " 1   Word        1048575 non-null  object\n",
            " 2   POS         1048575 non-null  object\n",
            " 3   Tag         1048575 non-null  object\n",
            "dtypes: object(4)\n",
            "memory usage: 32.0+ MB\n"
          ]
        }
      ],
      "source": [
        "df.info()"
      ]
    },
    {
      "cell_type": "code",
      "execution_count": 5,
      "id": "0daeaf8d",
      "metadata": {
        "colab": {
          "base_uri": "https://localhost:8080/"
        },
        "id": "0daeaf8d",
        "outputId": "fc753b21-56fe-419a-c4f7-a1dab06555e2"
      },
      "outputs": [
        {
          "name": "stdout",
          "output_type": "stream",
          "text": [
            "<class 'pandas.core.frame.DataFrame'>\n",
            "RangeIndex: 47959 entries, 0 to 47958\n",
            "Data columns (total 4 columns):\n",
            " #   Column      Non-Null Count  Dtype \n",
            "---  ------      --------------  ----- \n",
            " 0   Sentence #  47959 non-null  object\n",
            " 1   Sentence    47959 non-null  object\n",
            " 2   POS         47959 non-null  object\n",
            " 3   Tag         47959 non-null  object\n",
            "dtypes: object(4)\n",
            "memory usage: 1.5+ MB\n"
          ]
        }
      ],
      "source": [
        "ready_df.info()"
      ]
    },
    {
      "cell_type": "code",
      "execution_count": 6,
      "id": "bd7a100e",
      "metadata": {
        "colab": {
          "base_uri": "https://localhost:8080/"
        },
        "id": "bd7a100e",
        "outputId": "f8416c9b-cc38-4d25-da6f-a426363d75eb"
      },
      "outputs": [
        {
          "name": "stdout",
          "output_type": "stream",
          "text": [
            "total unique words : 35178\n",
            "total unique tags : 17\n",
            "tags :  ['O' 'B-geo' 'B-gpe' 'B-per' 'I-geo' 'B-org' 'I-org' 'B-tim' 'B-art'\n",
            " 'I-art' 'I-per' 'I-gpe' 'I-tim' 'B-nat' 'B-eve' 'I-eve' 'I-nat']\n"
          ]
        }
      ],
      "source": [
        "unique_words = len(np.unique(df['Word']))\n",
        "unique_tags = df['Tag'].unique()\n",
        "total_unique_tags = len(np.unique(df['Tag']))\n",
        "print(\"total unique words :\", unique_words)\n",
        "print(\"total unique tags :\", total_unique_tags)\n",
        "print(\"tags : \", unique_tags)"
      ]
    },
    {
      "cell_type": "code",
      "execution_count": 7,
      "id": "190442b0",
      "metadata": {
        "colab": {
          "base_uri": "https://localhost:8080/"
        },
        "id": "190442b0",
        "outputId": "86f62d25-2203-4481-97bb-16e826576358"
      },
      "outputs": [
        {
          "data": {
            "text/plain": [
              "(['Thousands of demonstrators have marched through London to protest the war in Iraq and demand the withdrawal of British troops from that country .',\n",
              "  'Families of soldiers killed in the conflict joined the protesters who carried banners with such slogans as \" Bush Number One Terrorist \" and \" Stop the Bombings . \"',\n",
              "  'They marched from the Houses of Parliament to a rally in Hyde Park .',\n",
              "  'Police put the number of marchers at 10,000 while organizers claimed it was 1,00,000 .',\n",
              "  \"The protest comes on the eve of the annual conference of Britain 's ruling Labor Party in the southern English seaside resort of Brighton .\",\n",
              "  \"The party is divided over Britain 's participation in the Iraq conflict and the continued deployment of 8,500 British troops in that country .\",\n",
              "  'The London march came ahead of anti-war protests today in other cities , including Rome , Paris , and Madrid .',\n",
              "  \"The International Atomic Energy Agency is to hold second day of talks in Vienna Wednesday on how to respond to Iran 's resumption of low-level uranium conversion .\",\n",
              "  'Iran this week restarted parts of the conversion process at its Isfahan nuclear plant .',\n",
              "  'Iranian officials say they expect to get access to sealed sensitive parts of the plant Wednesday , after an IAEA surveillance system begins functioning .'],\n",
              " [\"['O', 'O', 'O', 'O', 'O', 'O', 'B-geo', 'O', 'O', 'O', 'O', 'O', 'B-geo', 'O', 'O', 'O', 'O', 'O', 'B-gpe', 'O', 'O', 'O', 'O', 'O']\",\n",
              "  \"['O', 'O', 'O', 'O', 'O', 'O', 'O', 'O', 'O', 'O', 'O', 'O', 'O', 'O', 'O', 'O', 'O', 'O', 'B-per', 'O', 'O', 'O', 'O', 'O', 'O', 'O', 'O', 'O', 'O', 'O']\",\n",
              "  \"['O', 'O', 'O', 'O', 'O', 'O', 'O', 'O', 'O', 'O', 'O', 'B-geo', 'I-geo', 'O']\",\n",
              "  \"['O', 'O', 'O', 'O', 'O', 'O', 'O', 'O', 'O', 'O', 'O', 'O', 'O', 'O', 'O']\",\n",
              "  \"['O', 'O', 'O', 'O', 'O', 'O', 'O', 'O', 'O', 'O', 'O', 'B-geo', 'O', 'O', 'B-org', 'I-org', 'O', 'O', 'O', 'B-gpe', 'O', 'O', 'O', 'B-geo', 'O']\",\n",
              "  \"['O', 'O', 'O', 'O', 'O', 'B-gpe', 'O', 'O', 'O', 'O', 'B-geo', 'O', 'O', 'O', 'O', 'O', 'O', 'O', 'B-gpe', 'O', 'O', 'O', 'O', 'O']\",\n",
              "  \"['O', 'B-geo', 'O', 'O', 'O', 'O', 'O', 'O', 'O', 'O', 'O', 'O', 'O', 'O', 'B-geo', 'O', 'B-geo', 'O', 'O', 'B-geo', 'O']\",\n",
              "  \"['O', 'B-org', 'I-org', 'I-org', 'I-org', 'O', 'O', 'O', 'O', 'O', 'O', 'O', 'O', 'B-geo', 'B-tim', 'O', 'O', 'O', 'O', 'O', 'B-gpe', 'O', 'O', 'O', 'O', 'O', 'O', 'O']\",\n",
              "  \"['B-gpe', 'O', 'O', 'O', 'O', 'O', 'O', 'O', 'O', 'O', 'O', 'B-geo', 'O', 'O', 'O']\",\n",
              "  \"['B-gpe', 'O', 'O', 'O', 'O', 'O', 'O', 'O', 'O', 'O', 'O', 'O', 'O', 'O', 'O', 'B-tim', 'O', 'O', 'O', 'B-org', 'O', 'O', 'O', 'O', 'O']\"])"
            ]
          },
          "execution_count": 7,
          "metadata": {},
          "output_type": "execute_result"
        }
      ],
      "source": [
        "X = list(ready_df['Sentence'])\n",
        "y = list(ready_df['Tag'])\n",
        "X[:10], y[:10]"
      ]
    },
    {
      "cell_type": "code",
      "execution_count": 8,
      "id": "597d58e4",
      "metadata": {
        "colab": {
          "base_uri": "https://localhost:8080/"
        },
        "id": "597d58e4",
        "outputId": "df13eb7d-45f8-4f43-f355-06431c185c4d"
      },
      "outputs": [
        {
          "name": "stdout",
          "output_type": "stream",
          "text": [
            "total sentences:  47959\n"
          ]
        }
      ],
      "source": [
        "print(\"total sentences: \", len(X))"
      ]
    },
    {
      "cell_type": "code",
      "execution_count": 9,
      "id": "96bfbedb",
      "metadata": {
        "colab": {
          "base_uri": "https://localhost:8080/"
        },
        "id": "96bfbedb",
        "outputId": "4a7c8947-c742-4801-e407-cd383b6e6ac0"
      },
      "outputs": [
        {
          "name": "stdout",
          "output_type": "stream",
          "text": [
            "541\n"
          ]
        }
      ],
      "source": [
        "# to get the max length sentence\n",
        "maxlen = max(len(s) for s in X)\n",
        "print(maxlen)"
      ]
    },
    {
      "cell_type": "code",
      "execution_count": 10,
      "id": "648f13bc",
      "metadata": {
        "colab": {
          "base_uri": "https://localhost:8080/"
        },
        "id": "648f13bc",
        "outputId": "0e4ccea5-4779-42a3-de3f-93a6dd1e588b"
      },
      "outputs": [
        {
          "name": "stdout",
          "output_type": "stream",
          "text": [
            "Vocabulary contains 27953 words\n",
            "\n"
          ]
        }
      ],
      "source": [
        "# maxlen is too big so we will be taking a small length\n",
        "maxlen = 110\n",
        "\n",
        "total_words = unique_words\n",
        "\n",
        "tokenizer = Tokenizer(num_words=total_words)\n",
        "tokenizer.fit_on_texts(X)\n",
        "sequences = tokenizer.texts_to_sequences(X)\n",
        "\n",
        "word_index = tokenizer.word_index\n",
        "vocab_size = len(word_index)\n",
        "print(f\"Vocabulary contains {vocab_size} words\\n\")"
      ]
    },
    {
      "cell_type": "code",
      "execution_count": 11,
      "id": "48dc618e",
      "metadata": {
        "id": "48dc618e"
      },
      "outputs": [],
      "source": [
        "X_padded = pad_sequences(sequences,maxlen = maxlen, padding = 'post', truncating = 'post')"
      ]
    },
    {
      "cell_type": "code",
      "execution_count": 12,
      "id": "73a00994",
      "metadata": {
        "colab": {
          "base_uri": "https://localhost:8080/"
        },
        "id": "73a00994",
        "outputId": "3b97ec1d-ce86-449c-d844-3e63f1a0475f"
      },
      "outputs": [
        {
          "data": {
            "text/plain": [
              "(47959, 110)"
            ]
          },
          "execution_count": 12,
          "metadata": {},
          "output_type": "execute_result"
        }
      ],
      "source": [
        "X_padded.shape"
      ]
    },
    {
      "cell_type": "code",
      "execution_count": 13,
      "id": "4329b0e9",
      "metadata": {
        "colab": {
          "base_uri": "https://localhost:8080/"
        },
        "id": "4329b0e9",
        "outputId": "0d91efe4-5e57-4b1a-b961-b025deda8e7f"
      },
      "outputs": [
        {
          "data": {
            "text/plain": [
              "array([[ 260,    3,  997, ...,    0,    0,    0],\n",
              "       [1191,    3,  148, ...,    0,    0,    0],\n",
              "       [  45, 1838,   21, ...,    0,    0,    0],\n",
              "       ...,\n",
              "       [  36,   46, 2760, ...,    0,    0,    0],\n",
              "       [  45,   26,   41, ...,    0,    0,    0],\n",
              "       [ 364,   75,   16, ...,    0,    0,    0]], dtype=int32)"
            ]
          },
          "execution_count": 13,
          "metadata": {},
          "output_type": "execute_result"
        }
      ],
      "source": [
        "X_padded"
      ]
    },
    {
      "cell_type": "code",
      "execution_count": 14,
      "id": "d0c2ce62",
      "metadata": {
        "colab": {
          "base_uri": "https://localhost:8080/"
        },
        "id": "d0c2ce62",
        "outputId": "9ab2cefa-e6aa-4508-b805-5fa219bdb9f4"
      },
      "outputs": [
        {
          "name": "stdout",
          "output_type": "stream",
          "text": [
            "Tag: B-org, Numerical Value: 5\n"
          ]
        }
      ],
      "source": [
        "tag_to_num = {tag: num for num, tag in enumerate(unique_tags)}\n",
        "\n",
        "example_tag = 'B-org'\n",
        "example_tag_num = tag_to_num[example_tag]\n",
        "print(f\"Tag: {example_tag}, Numerical Value: {example_tag_num}\")"
      ]
    },
    {
      "cell_type": "code",
      "execution_count": 15,
      "id": "3a08843c",
      "metadata": {
        "colab": {
          "base_uri": "https://localhost:8080/"
        },
        "id": "3a08843c",
        "outputId": "95b4bd15-3c32-459d-f909-331e4c3a774c"
      },
      "outputs": [
        {
          "data": {
            "text/plain": [
              "{'O': 0,\n",
              " 'B-geo': 1,\n",
              " 'B-gpe': 2,\n",
              " 'B-per': 3,\n",
              " 'I-geo': 4,\n",
              " 'B-org': 5,\n",
              " 'I-org': 6,\n",
              " 'B-tim': 7,\n",
              " 'B-art': 8,\n",
              " 'I-art': 9,\n",
              " 'I-per': 10,\n",
              " 'I-gpe': 11,\n",
              " 'I-tim': 12,\n",
              " 'B-nat': 13,\n",
              " 'B-eve': 14,\n",
              " 'I-eve': 15,\n",
              " 'I-nat': 16}"
            ]
          },
          "execution_count": 15,
          "metadata": {},
          "output_type": "execute_result"
        }
      ],
      "source": [
        "tag_to_num"
      ]
    },
    {
      "cell_type": "code",
      "execution_count": 16,
      "id": "0e887a6b",
      "metadata": {
        "colab": {
          "base_uri": "https://localhost:8080/"
        },
        "id": "0e887a6b",
        "outputId": "0b72b7c9-88ec-45e1-f7b1-872ed9cec913"
      },
      "outputs": [
        {
          "data": {
            "text/plain": [
              "0"
            ]
          },
          "execution_count": 16,
          "metadata": {},
          "output_type": "execute_result"
        }
      ],
      "source": [
        "tag_to_num['O']"
      ]
    },
    {
      "cell_type": "code",
      "execution_count": 17,
      "id": "597b331f",
      "metadata": {
        "id": "597b331f"
      },
      "outputs": [],
      "source": [
        "def gettags(s):\n",
        "    return s[2:-2].split(\"', '\")"
      ]
    },
    {
      "cell_type": "code",
      "execution_count": 18,
      "id": "a0d6a9a3",
      "metadata": {
        "id": "a0d6a9a3"
      },
      "outputs": [],
      "source": [
        "def tags_list2idx(t):\n",
        "    t = [tag_to_num[tag] for tag in gettags(t)]\n",
        "    return t"
      ]
    },
    {
      "cell_type": "code",
      "execution_count": 19,
      "id": "17ea9e1a",
      "metadata": {
        "id": "17ea9e1a"
      },
      "outputs": [],
      "source": [
        "Y = [tags_list2idx(t) for t in y]"
      ]
    },
    {
      "cell_type": "code",
      "execution_count": 20,
      "id": "c7d6176b",
      "metadata": {
        "colab": {
          "base_uri": "https://localhost:8080/",
          "height": 52
        },
        "id": "c7d6176b",
        "outputId": "30523082-11ba-46ba-b2c0-0b59daffa7c5"
      },
      "outputs": [
        {
          "data": {
            "application/vnd.google.colaboratory.intrinsic+json": {
              "type": "string"
            },
            "text/plain": [
              "\"['O', 'O', 'O', 'O', 'O', 'O', 'O', 'O', 'O', 'O', 'O', 'O', 'O', 'O', 'O', 'O', 'O', 'O', 'B-per', 'O', 'O', 'O', 'O', 'O', 'O', 'O', 'O', 'O', 'O', 'O']\""
            ]
          },
          "execution_count": 20,
          "metadata": {},
          "output_type": "execute_result"
        }
      ],
      "source": [
        "y[1]"
      ]
    },
    {
      "cell_type": "code",
      "execution_count": 21,
      "id": "1149b9b7",
      "metadata": {
        "colab": {
          "base_uri": "https://localhost:8080/"
        },
        "id": "1149b9b7",
        "outputId": "aa083456-8f32-4ce8-cf59-f7c218886593"
      },
      "outputs": [
        {
          "data": {
            "text/plain": [
              "[0,\n",
              " 0,\n",
              " 0,\n",
              " 0,\n",
              " 0,\n",
              " 0,\n",
              " 0,\n",
              " 0,\n",
              " 0,\n",
              " 0,\n",
              " 0,\n",
              " 0,\n",
              " 0,\n",
              " 0,\n",
              " 0,\n",
              " 0,\n",
              " 0,\n",
              " 0,\n",
              " 3,\n",
              " 0,\n",
              " 0,\n",
              " 0,\n",
              " 0,\n",
              " 0,\n",
              " 0,\n",
              " 0,\n",
              " 0,\n",
              " 0,\n",
              " 0,\n",
              " 0]"
            ]
          },
          "execution_count": 21,
          "metadata": {},
          "output_type": "execute_result"
        }
      ],
      "source": [
        "Y[1]"
      ]
    },
    {
      "cell_type": "code",
      "execution_count": 22,
      "id": "aec5d17e",
      "metadata": {
        "colab": {
          "base_uri": "https://localhost:8080/"
        },
        "id": "aec5d17e",
        "outputId": "a853b7bc-2149-4e47-9ddd-bd765f180a25"
      },
      "outputs": [
        {
          "data": {
            "text/plain": [
              "array([[0, 0, 0, ..., 0, 0, 0],\n",
              "       [0, 0, 0, ..., 0, 0, 0],\n",
              "       [0, 0, 0, ..., 0, 0, 0],\n",
              "       ...,\n",
              "       [0, 0, 0, ..., 0, 0, 0],\n",
              "       [0, 0, 0, ..., 0, 0, 0],\n",
              "       [2, 0, 0, ..., 0, 0, 0]], dtype=int32)"
            ]
          },
          "execution_count": 22,
          "metadata": {},
          "output_type": "execute_result"
        }
      ],
      "source": [
        "Y = pad_sequences(maxlen=maxlen, sequences=Y, padding=\"post\", truncating = 'post', value=tag_to_num[\"O\"])\n",
        "Y"
      ]
    },
    {
      "cell_type": "code",
      "execution_count": 23,
      "id": "f1c7f750",
      "metadata": {
        "colab": {
          "base_uri": "https://localhost:8080/"
        },
        "id": "f1c7f750",
        "outputId": "a00b82fb-3647-4dc0-c9c6-9d85f6e8b8ef"
      },
      "outputs": [
        {
          "data": {
            "text/plain": [
              "(47959, 47959)"
            ]
          },
          "execution_count": 23,
          "metadata": {},
          "output_type": "execute_result"
        }
      ],
      "source": [
        "len(X), len(Y)"
      ]
    },
    {
      "cell_type": "code",
      "execution_count": 24,
      "id": "72426003",
      "metadata": {
        "id": "72426003"
      },
      "outputs": [],
      "source": [
        "X_train, X_test, Y_train, Y_test = train_test_split(X_padded, Y, test_size=0.2, random_state=1)\n",
        "\n",
        "X_train, X_val, Y_train, Y_val = train_test_split(X_train, Y_train, test_size=0.25, random_state=1)"
      ]
    },
    {
      "cell_type": "code",
      "execution_count": 25,
      "id": "8255ad04",
      "metadata": {
        "colab": {
          "base_uri": "https://localhost:8080/"
        },
        "id": "8255ad04",
        "outputId": "08b2b935-3e9c-4b92-d508-1b7f5ff9927e"
      },
      "outputs": [
        {
          "name": "stdout",
          "output_type": "stream",
          "text": [
            "Total training examples :  28775\n",
            "Total validation examples :  9592\n",
            "Total test examples :  9592\n"
          ]
        }
      ],
      "source": [
        "print(\"Total training examples : \", len(X_train))\n",
        "print(\"Total validation examples : \", len(X_val))\n",
        "print(\"Total test examples : \", len(X_test))"
      ]
    },
    {
      "cell_type": "code",
      "execution_count": 26,
      "id": "29ffe791",
      "metadata": {
        "colab": {
          "base_uri": "https://localhost:8080/"
        },
        "id": "29ffe791",
        "outputId": "88f3e1c5-1dfd-4250-ce7d-dd51c6cf1bf8"
      },
      "outputs": [
        {
          "data": {
            "text/plain": [
              "array([  25,  199,  662, 2665,    4, 4226,   59,  956,  913, 2480,  168,\n",
              "         81,    7, 1866,   31,  122,   16,   10,   14,   20,  698,   95,\n",
              "         12,  662,   32, 1162,  846, 1020,   46,    3,   59, 2263,  193,\n",
              "          3,  913, 1794,  924,    2,  563,    6,  372,    0,    0,    0,\n",
              "          0,    0,    0,    0,    0,    0,    0,    0,    0,    0,    0,\n",
              "          0,    0,    0,    0,    0,    0,    0,    0,    0,    0,    0,\n",
              "          0,    0,    0,    0,    0,    0,    0,    0,    0,    0,    0,\n",
              "          0,    0,    0,    0,    0,    0,    0,    0,    0,    0,    0,\n",
              "          0,    0,    0,    0,    0,    0,    0,    0,    0,    0,    0,\n",
              "          0,    0,    0,    0,    0,    0,    0,    0,    0,    0,    0],\n",
              "      dtype=int32)"
            ]
          },
          "execution_count": 26,
          "metadata": {},
          "output_type": "execute_result"
        }
      ],
      "source": [
        "X_train[100]"
      ]
    },
    {
      "cell_type": "code",
      "execution_count": 27,
      "id": "f79c30c2",
      "metadata": {
        "colab": {
          "base_uri": "https://localhost:8080/"
        },
        "id": "f79c30c2",
        "outputId": "dc0506e9-a7b1-4ad3-cae5-436bf125447a"
      },
      "outputs": [
        {
          "data": {
            "text/plain": [
              "array([ 0,  0,  2,  0,  0,  0,  0,  0,  0,  0,  0,  7,  0,  0,  0,  3, 10,\n",
              "        0,  0,  1,  0,  7,  0,  2,  0,  0,  0,  0,  0,  0,  0,  0,  0,  0,\n",
              "        0,  0,  0,  0,  7, 12, 12,  0,  0,  0,  0,  0,  0,  0,  0,  0,  0,\n",
              "        0,  0,  0,  0,  0,  0,  0,  0,  0,  0,  0,  0,  0,  0,  0,  0,  0,\n",
              "        0,  0,  0,  0,  0,  0,  0,  0,  0,  0,  0,  0,  0,  0,  0,  0,  0,\n",
              "        0,  0,  0,  0,  0,  0,  0,  0,  0,  0,  0,  0,  0,  0,  0,  0,  0,\n",
              "        0,  0,  0,  0,  0,  0,  0,  0], dtype=int32)"
            ]
          },
          "execution_count": 27,
          "metadata": {},
          "output_type": "execute_result"
        }
      ],
      "source": [
        "Y_train[100]"
      ]
    },
    {
      "cell_type": "code",
      "execution_count": 28,
      "id": "a3f51da9",
      "metadata": {
        "id": "a3f51da9"
      },
      "outputs": [],
      "source": [
        "train_dataset = tf.data.Dataset.from_tensor_slices((X_train, Y_train))\n",
        "val_dataset = tf.data.Dataset.from_tensor_slices((X_val, Y_val))\n",
        "test_dataset = tf.data.Dataset.from_tensor_slices((X_test, Y_test))"
      ]
    },
    {
      "cell_type": "code",
      "execution_count": 29,
      "id": "f3c6a61a",
      "metadata": {
        "id": "f3c6a61a"
      },
      "outputs": [],
      "source": [
        "BATCH_SIZE = 128\n",
        "SHUFFLE_BUFFER_SIZE = 128\n",
        "\n",
        "train_dataset = train_dataset.shuffle(SHUFFLE_BUFFER_SIZE).batch(BATCH_SIZE)\n",
        "val_dataset = val_dataset.batch(BATCH_SIZE)\n",
        "test_dataset = test_dataset.batch(BATCH_SIZE)"
      ]
    },
    {
      "cell_type": "code",
      "execution_count": 30,
      "id": "98feb638",
      "metadata": {
        "id": "98feb638"
      },
      "outputs": [],
      "source": [
        "maxlen = 110\n",
        "maxwords = vocab_size\n",
        "num_tags = total_unique_tags\n",
        "\n",
        "model = Sequential([\n",
        "    Embedding(input_dim=vocab_size+1, output_dim=maxlen, input_length=maxlen),\n",
        "    Dropout(0.1),\n",
        "    Bidirectional(LSTM(units = 100, activation = 'tanh', return_sequences = True)),\n",
        "    Bidirectional(LSTM(units = 100, activation = 'tanh', return_sequences = True, recurrent_dropout=0.1)),\n",
        "    TimeDistributed(Dense(num_tags, activation = 'softmax'))\n",
        "])"
      ]
    },
    {
      "cell_type": "code",
      "execution_count": 31,
      "id": "c6774433",
      "metadata": {
        "colab": {
          "base_uri": "https://localhost:8080/"
        },
        "id": "c6774433",
        "outputId": "23d77b8f-1645-4868-9066-3c2b84d79321"
      },
      "outputs": [
        {
          "name": "stdout",
          "output_type": "stream",
          "text": [
            "Model: \"sequential\"\n",
            "_________________________________________________________________\n",
            " Layer (type)                Output Shape              Param #   \n",
            "=================================================================\n",
            " embedding (Embedding)       (None, 110, 110)          3074940   \n",
            "                                                                 \n",
            " dropout (Dropout)           (None, 110, 110)          0         \n",
            "                                                                 \n",
            " bidirectional (Bidirectiona  (None, 110, 200)         168800    \n",
            " l)                                                              \n",
            "                                                                 \n",
            " bidirectional_1 (Bidirectio  (None, 110, 200)         240800    \n",
            " nal)                                                            \n",
            "                                                                 \n",
            " time_distributed (TimeDistr  (None, 110, 17)          3417      \n",
            " ibuted)                                                         \n",
            "                                                                 \n",
            "=================================================================\n",
            "Total params: 3,487,957\n",
            "Trainable params: 3,487,957\n",
            "Non-trainable params: 0\n",
            "_________________________________________________________________\n"
          ]
        }
      ],
      "source": [
        "model.summary()"
      ]
    },
    {
      "cell_type": "code",
      "execution_count": 32,
      "id": "a1720495",
      "metadata": {
        "id": "a1720495"
      },
      "outputs": [],
      "source": [
        "model.compile(loss='sparse_categorical_crossentropy',\n",
        "              optimizer='adam',\n",
        "              metrics=['accuracy'])"
      ]
    },
    {
      "cell_type": "code",
      "execution_count": 242,
      "id": "591a4975",
      "metadata": {
        "colab": {
          "base_uri": "https://localhost:8080/"
        },
        "id": "591a4975",
        "outputId": "4f480e09-c383-4a44-a361-691949f14006"
      },
      "outputs": [
        {
          "name": "stdout",
          "output_type": "stream",
          "text": [
            "Epoch 1/5\n",
            "225/225 [==============================] - 477s 2s/step - loss: 0.2094 - accuracy: 0.9655 - val_loss: 0.1210 - val_accuracy: 0.9697\n",
            "Epoch 2/5\n",
            "225/225 [==============================] - 456s 2s/step - loss: 0.1084 - accuracy: 0.9711 - val_loss: 0.1041 - val_accuracy: 0.9716\n",
            "Epoch 3/5\n",
            "225/225 [==============================] - 456s 2s/step - loss: 0.0900 - accuracy: 0.9742 - val_loss: 0.0832 - val_accuracy: 0.9758\n",
            "Epoch 4/5\n",
            "225/225 [==============================] - 465s 2s/step - loss: 0.0699 - accuracy: 0.9782 - val_loss: 0.0733 - val_accuracy: 0.9779\n",
            "Epoch 5/5\n",
            "225/225 [==============================] - 456s 2s/step - loss: 0.0599 - accuracy: 0.9805 - val_loss: 0.0702 - val_accuracy: 0.9785\n"
          ]
        }
      ],
      "source": [
        "history = model.fit(train_dataset,\n",
        "                    validation_data=val_dataset,\n",
        "                    epochs=5)"
      ]
    },
    {
      "cell_type": "code",
      "execution_count": 244,
      "id": "Cjz37pNG4cdb",
      "metadata": {
        "id": "Cjz37pNG4cdb"
      },
      "outputs": [],
      "source": [
        "model.save('ner.h5')"
      ]
    },
    {
      "cell_type": "code",
      "execution_count": 243,
      "id": "f993c800",
      "metadata": {
        "id": "f993c800"
      },
      "outputs": [],
      "source": [
        "import pickle"
      ]
    },
    {
      "cell_type": "code",
      "execution_count": 246,
      "id": "eBxSTfSP3zlD",
      "metadata": {
        "id": "eBxSTfSP3zlD"
      },
      "outputs": [],
      "source": [
        "pickle.dump(model, open('nermodel.pkl', 'wb'))"
      ]
    },
    {
      "cell_type": "code",
      "execution_count": 34,
      "id": "-CnYp6v84ug2",
      "metadata": {
        "id": "-CnYp6v84ug2"
      },
      "outputs": [],
      "source": [
        "model = tf.keras.models.load_model(\"ner.h5\")"
      ]
    },
    {
      "cell_type": "code",
      "execution_count": 35,
      "id": "fHfZ0B1l5EA7",
      "metadata": {
        "colab": {
          "base_uri": "https://localhost:8080/"
        },
        "id": "fHfZ0B1l5EA7",
        "outputId": "1d7fb95c-2124-4c4e-f3ce-308321e5685d"
      },
      "outputs": [
        {
          "name": "stdout",
          "output_type": "stream",
          "text": [
            "Model: \"sequential_6\"\n",
            "_________________________________________________________________\n",
            " Layer (type)                Output Shape              Param #   \n",
            "=================================================================\n",
            " embedding_6 (Embedding)     (None, 110, 110)          3074940   \n",
            "                                                                 \n",
            " dropout_6 (Dropout)         (None, 110, 110)          0         \n",
            "                                                                 \n",
            " bidirectional_8 (Bidirectio  (None, 110, 200)         168800    \n",
            " nal)                                                            \n",
            "                                                                 \n",
            " bidirectional_9 (Bidirectio  (None, 110, 200)         240800    \n",
            " nal)                                                            \n",
            "                                                                 \n",
            " time_distributed_6 (TimeDis  (None, 110, 17)          3417      \n",
            " tributed)                                                       \n",
            "                                                                 \n",
            "=================================================================\n",
            "Total params: 3,487,957\n",
            "Trainable params: 3,487,957\n",
            "Non-trainable params: 0\n",
            "_________________________________________________________________\n"
          ]
        }
      ],
      "source": [
        "model.summary()"
      ]
    },
    {
      "cell_type": "code",
      "execution_count": 36,
      "id": "OHdUuaCMYOzq",
      "metadata": {
        "colab": {
          "base_uri": "https://localhost:8080/"
        },
        "id": "OHdUuaCMYOzq",
        "outputId": "5e46558b-54b6-4518-8305-fc463be2eda3"
      },
      "outputs": [
        {
          "name": "stdout",
          "output_type": "stream",
          "text": [
            "75/75 [==============================] - 43s 541ms/step - loss: 0.0684 - accuracy: 0.9791\n"
          ]
        },
        {
          "data": {
            "text/plain": [
              "[0.06844373792409897, 0.9790772795677185]"
            ]
          },
          "execution_count": 36,
          "metadata": {},
          "output_type": "execute_result"
        }
      ],
      "source": [
        "model.evaluate(test_dataset)"
      ]
    },
    {
      "cell_type": "code",
      "execution_count": null,
      "id": "hF0650WQYhbO",
      "metadata": {
        "id": "hF0650WQYhbO"
      },
      "outputs": [],
      "source": []
    }
  ],
  "metadata": {
    "accelerator": "GPU",
    "colab": {
      "gpuType": "T4",
      "provenance": []
    },
    "kernelspec": {
      "display_name": "Python 3",
      "name": "python3"
    },
    "language_info": {
      "codemirror_mode": {
        "name": "ipython",
        "version": 3
      },
      "file_extension": ".py",
      "mimetype": "text/x-python",
      "name": "python",
      "nbconvert_exporter": "python",
      "pygments_lexer": "ipython3",
      "version": "3.9.13"
    }
  },
  "nbformat": 4,
  "nbformat_minor": 5
}
